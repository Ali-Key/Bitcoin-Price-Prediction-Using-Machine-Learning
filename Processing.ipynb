{
 "cells": [
  {
   "cell_type": "code",
   "execution_count": 222,
   "id": "78380740",
   "metadata": {},
   "outputs": [],
   "source": [
    "\n",
    "# import necessary libraries\n",
    "import pandas as pd\n",
    "import numpy as np\n",
    "from sklearn.preprocessing import StandardScaler\n",
    "\n",
    "# import necessary modules\n",
    "import joblib\n",
    "import json\n",
    "import os\n"
   ]
  },
  {
   "cell_type": "code",
   "execution_count": 223,
   "id": "4245c5db",
   "metadata": {},
   "outputs": [
    {
     "name": "stdout",
     "output_type": "stream",
     "text": [
      "Dataset loaded successfully.\n"
     ]
    }
   ],
   "source": [
    "# 1) Load the dataset\n",
    "CSV_PATH = \"./Dataset/Bitcoin - Dataset.csv\"\n",
    "df = pd.read_csv(CSV_PATH)\n",
    "print(\"Dataset loaded successfully.\")"
   ]
  },
  {
   "cell_type": "code",
   "execution_count": 224,
   "id": "af7aeb6d",
   "metadata": {},
   "outputs": [
    {
     "name": "stdout",
     "output_type": "stream",
     "text": [
      "\n",
      "=== INITIAL HEAD ===\n",
      "         Date        Open        High         Low       Close   Adj Close  \\\n",
      "0  2014-09-17  465.864014  468.174011  452.421997  457.334015  457.334015   \n",
      "1  2014-09-18  456.859985  456.859985  413.104004  424.440002  424.440002   \n",
      "2  2014-09-19  424.102997  427.834991  384.532013  394.795990  394.795990   \n",
      "3  2014-09-20  394.673004  423.295990  389.882996  408.903992  408.903992   \n",
      "4  2014-09-21  408.084991  412.425995  393.181000  398.821014  398.821014   \n",
      "\n",
      "     Volume  \n",
      "0  21056800  \n",
      "1  34483200  \n",
      "2  37919700  \n",
      "3  36863600  \n",
      "4  26580100  \n"
     ]
    }
   ],
   "source": [
    "# === INITIAL SNAPSHOT ===\n",
    "print(\"\\n=== INITIAL HEAD ===\")\n",
    "print(df.head())"
   ]
  },
  {
   "cell_type": "code",
   "execution_count": 225,
   "id": "8c42d963",
   "metadata": {},
   "outputs": [
    {
     "name": "stdout",
     "output_type": "stream",
     "text": [
      "\n",
      "=== INITIAL INFO ===\n",
      "<class 'pandas.core.frame.DataFrame'>\n",
      "RangeIndex: 2713 entries, 0 to 2712\n",
      "Data columns (total 7 columns):\n",
      " #   Column     Non-Null Count  Dtype  \n",
      "---  ------     --------------  -----  \n",
      " 0   Date       2713 non-null   object \n",
      " 1   Open       2713 non-null   float64\n",
      " 2   High       2713 non-null   float64\n",
      " 3   Low        2713 non-null   float64\n",
      " 4   Close      2713 non-null   float64\n",
      " 5   Adj Close  2713 non-null   float64\n",
      " 6   Volume     2713 non-null   int64  \n",
      "dtypes: float64(5), int64(1), object(1)\n",
      "memory usage: 148.5+ KB\n",
      "None\n"
     ]
    }
   ],
   "source": [
    "# INITIAL INFO\n",
    "print(\"\\n=== INITIAL INFO ===\")\n",
    "print(df.info())\n"
   ]
  },
  {
   "cell_type": "code",
   "execution_count": 226,
   "id": "f7a20f57",
   "metadata": {},
   "outputs": [
    {
     "name": "stdout",
     "output_type": "stream",
     "text": [
      "\n",
      "=== INITIAL MISSING VALUES ===\n",
      "Date         0\n",
      "Open         0\n",
      "High         0\n",
      "Low          0\n",
      "Close        0\n",
      "Adj Close    0\n",
      "Volume       0\n",
      "dtype: int64\n"
     ]
    }
   ],
   "source": [
    "# INITIAL MISSING VALUES\n",
    "print(\"\\n=== INITIAL MISSING VALUES ===\")\n",
    "print(df.isnull().sum())\n"
   ]
  },
  {
   "cell_type": "code",
   "execution_count": 227,
   "id": "65cae513",
   "metadata": {},
   "outputs": [
    {
     "name": "stdout",
     "output_type": "stream",
     "text": [
      "\n",
      "=== INITIAL DESCRIBE ===\n",
      "               Open          High           Low         Close     Adj Close  \\\n",
      "count   2713.000000   2713.000000   2713.000000   2713.000000   2713.000000   \n",
      "mean   11311.041069  11614.292482  10975.555057  11323.914637  11323.914637   \n",
      "std    16106.428891  16537.390649  15608.572560  16110.365010  16110.365010   \n",
      "min      176.897003    211.731003    171.509995    178.102997    178.102997   \n",
      "25%      606.396973    609.260986    604.109985    606.718994    606.718994   \n",
      "50%     6301.569824   6434.617676   6214.220215   6317.609863   6317.609863   \n",
      "75%    10452.399414  10762.644531  10202.387695  10462.259766  10462.259766   \n",
      "max    67549.734375  68789.625000  66382.062500  67566.828125  67566.828125   \n",
      "\n",
      "             Volume  \n",
      "count  2.713000e+03  \n",
      "mean   1.470462e+10  \n",
      "std    2.001627e+10  \n",
      "min    5.914570e+06  \n",
      "25%    7.991080e+07  \n",
      "50%    5.098183e+09  \n",
      "75%    2.456992e+10  \n",
      "max    3.509679e+11  \n"
     ]
    }
   ],
   "source": [
    "# INITIAL DESCRIBE\n",
    "print(\"\\n=== INITIAL DESCRIBE ===\")\n",
    "print(df.describe())"
   ]
  },
  {
   "cell_type": "code",
   "execution_count": 228,
   "id": "b4648cfa",
   "metadata": {},
   "outputs": [
    {
     "name": "stdout",
     "output_type": "stream",
     "text": [
      "\n",
      "Target 'Close' column cleaned and converted to float.\n"
     ]
    }
   ],
   "source": [
    "# 2) Clean target formatting\n",
    "df[\"Close\"] = df[\"Close\"].astype(float)\n",
    "print(\"\\nTarget 'Close' column cleaned and converted to float.\")\n"
   ]
  },
  {
   "cell_type": "code",
   "execution_count": 229,
   "id": "df862367",
   "metadata": {},
   "outputs": [
    {
     "name": "stdout",
     "output_type": "stream",
     "text": [
      "\n",
      "Date column cleaned.\n"
     ]
    }
   ],
   "source": [
    "# 3) Fix categorical issues BEFORE imputation\n",
    "df[\"Date\"] = pd.to_datetime(df[\"Date\"])\n",
    "df[\"Date\"] = df[\"Date\"].dt.strftime(\"%Y-%m-%d\")\n",
    "print(\"\\nDate column cleaned.\")"
   ]
  },
  {
   "cell_type": "code",
   "execution_count": 230,
   "id": "e9d72cc9",
   "metadata": {},
   "outputs": [
    {
     "name": "stdout",
     "output_type": "stream",
     "text": [
      "\n",
      "Missing values imputed successfully.\n"
     ]
    },
    {
     "name": "stderr",
     "output_type": "stream",
     "text": [
      "C:\\Users\\ALI KEY\\AppData\\Local\\Temp\\ipykernel_15340\\3518086508.py:2: FutureWarning: Series.fillna with 'method' is deprecated and will raise in a future version. Use obj.ffill() or obj.bfill() instead.\n",
      "  df[\"Date\"] = df[\"Date\"].fillna(method='ffill')  # forward fill missing values\n"
     ]
    }
   ],
   "source": [
    "# 4) Impute missing values\n",
    "df[\"Date\"] = df[\"Date\"].fillna(method='ffill')  # forward fill missing values\n",
    "df[\"Open\"].fillna(df[\"Open\"].mean(), inplace=True)\n",
    "df[\"High\"].fillna(df[\"High\"].mean(), inplace=True)\n",
    "df[\"Low\"].fillna(df[\"Low\"].mean(), inplace=True)\n",
    "df[\"Close\"].fillna(df[\"Close\"].mean(), inplace=True)\n",
    "df[\"Adj Close\"].fillna(df[\"Adj Close\"].mean(), inplace=True)\n",
    "df[\"Volume\"].fillna(df[\"Volume\"].mean(), inplace=True)\n",
    "print(\"\\nMissing values imputed successfully.\")"
   ]
  },
  {
   "cell_type": "code",
   "execution_count": 231,
   "id": "99f831db",
   "metadata": {},
   "outputs": [
    {
     "name": "stdout",
     "output_type": "stream",
     "text": [
      "Dropped duplicates: (2713, 7) → (2713, 7)\n"
     ]
    }
   ],
   "source": [
    "# 5) Remove duplicates\n",
    "Before = df.shape\n",
    "df = df.drop_duplicates()\n",
    "After = df.shape\n",
    "print(f\"Dropped duplicates: {Before} → {After}\")"
   ]
  },
  {
   "cell_type": "code",
   "execution_count": 232,
   "id": "77763df7",
   "metadata": {},
   "outputs": [
    {
     "name": "stdout",
     "output_type": "stream",
     "text": [
      "\n",
      "✅ Outliers capped successfully using IQR method.\n"
     ]
    }
   ],
   "source": [
    "# 6) IQR Capping (no leakage)\n",
    "\n",
    "# Define function to calculate lower and upper bounds using IQR\n",
    "def iqr_fun(series, k=1.5):\n",
    "    q1, q3 = series.quantile([0.25, 0.75])\n",
    "    iqr = q3 - q1\n",
    "    lower = q1 - k * iqr\n",
    "    upper = q3 + k * iqr\n",
    "    return lower, upper\n",
    "\n",
    "# Apply IQR function to Bitcoin price-related columns\n",
    "low_open, high_open = iqr_fun(df[\"Open\"])\n",
    "low_high, high_high = iqr_fun(df[\"High\"])\n",
    "low_low, high_low = iqr_fun(df[\"Low\"])\n",
    "low_close, high_close = iqr_fun(df[\"Close\"])\n",
    "low_volume, high_volume = iqr_fun(df[\"Volume\"])\n",
    "\n",
    "# Cap outliers within calculated bounds\n",
    "df[\"Open\"] = df[\"Open\"].clip(lower=low_open, upper=high_open)\n",
    "df[\"High\"] = df[\"High\"].clip(lower=low_high, upper=high_high)\n",
    "df[\"Low\"] = df[\"Low\"].clip(lower=low_low, upper=high_low)\n",
    "df[\"Close\"] = df[\"Close\"].clip(lower=low_close, upper=high_close)\n",
    "df[\"Volume\"] = df[\"Volume\"].clip(lower=low_volume, upper=high_volume)\n",
    "\n",
    "print(\"\\n✅ Outliers capped successfully using IQR method.\")\n"
   ]
  },
  {
   "cell_type": "code",
   "execution_count": 233,
   "id": "040c7fbe",
   "metadata": {},
   "outputs": [
    {
     "name": "stdout",
     "output_type": "stream",
     "text": [
      "\n",
      "✅ Categorical features one-hot encoded successfully.\n"
     ]
    }
   ],
   "source": [
    "# 7) One-Hot Encode Categorical Features\n",
    "\n",
    "# First, make sure 'Date' is datetime\n",
    "df[\"Date\"] = pd.to_datetime(df[\"Date\"], errors=\"coerce\")\n",
    "\n",
    "# Extract meaningful features from Date\n",
    "df[\"Year\"] = df[\"Date\"].dt.year\n",
    "df[\"Month\"] = df[\"Date\"].dt.month\n",
    "df[\"DayOfWeek\"] = df[\"Date\"].dt.dayofweek\n",
    "\n",
    "# One-hot encode Month and DayOfWeek\n",
    "categorical_cols = [\"Month\", \"DayOfWeek\"]\n",
    "df = pd.get_dummies(df, columns=categorical_cols, drop_first=True)\n",
    "\n",
    "print(\"\\n✅ Categorical features one-hot encoded successfully.\")\n"
   ]
  },
  {
   "cell_type": "code",
   "execution_count": 234,
   "id": "d4154d30",
   "metadata": {},
   "outputs": [
    {
     "name": "stdout",
     "output_type": "stream",
     "text": [
      "\n",
      "New features created successfully.\n"
     ]
    }
   ],
   "source": [
    "# 8) Feature engineering (no leakage)\n",
    "df[\"Open-Close\"] = df[\"Open\"] - df[\"Close\"]\n",
    "df[\"High-Low\"] = df[\"High\"] - df[\"Low\"]\n",
    "df[\"Low-Close\"] = df[\"Low\"] - df[\"Close\"]\n",
    "print(\"\\nNew features created successfully.\")"
   ]
  },
  {
   "cell_type": "code",
   "execution_count": 235,
   "id": "bc5cb114",
   "metadata": {},
   "outputs": [
    {
     "name": "stdout",
     "output_type": "stream",
     "text": [
      "\n",
      "✅ Features scaled successfully.\n"
     ]
    }
   ],
   "source": [
    "# 9) Feature scaling (X only; keep targets & dummies unscaled)\n",
    "scaler = StandardScaler()\n",
    "df[[\"Open\", \"High\", \"Low\", \"Close\", \"Volume\", \n",
    "    \"Open-Close\", \"High-Low\", \"Low-Close\"]] = scaler.fit_transform(df[[\"Open\", \"High\", \"Low\", \n",
    "    \"Close\", \"Volume\", \"Open-Close\", \"High-Low\", \"Low-Close\"\n",
    "    ]])\n",
    "\n",
    "print(\"\\n✅ Features scaled successfully.\")"
   ]
  },
  {
   "cell_type": "code",
   "execution_count": 236,
   "id": "8ec7566e",
   "metadata": {},
   "outputs": [
    {
     "name": "stdout",
     "output_type": "stream",
     "text": [
      "\n",
      "✅ Scaler and training columns saved successfully!\n"
     ]
    }
   ],
   "source": [
    "# Save the scaler and the training feature order (X columns) for later use\n",
    "\n",
    "# Create 'models' folder if it doesn't exist\n",
    "os.makedirs(\"models\", exist_ok=True)\n",
    "\n",
    "# Save the scaler\n",
    "joblib.dump(scaler, \"models/bitcoin_scaler.pkl\")\n",
    "\n",
    "# Determine the target columns actually in the DataFrame\n",
    "targets = [col for col in [\"Close\", \"Log_Close\"] if col in df.columns]\n",
    "\n",
    "# Save the training feature columns (all except targets)\n",
    "TRAIN_COLUMNS = df.drop(columns=targets).columns.tolist()\n",
    "json.dump(TRAIN_COLUMNS, open(\"models/train_columns.json\", \"w\"))\n",
    "\n",
    "print(\"\\n✅ Scaler and training columns saved successfully!\")"
   ]
  },
  {
   "cell_type": "code",
   "execution_count": 237,
   "id": "e30318c7",
   "metadata": {},
   "outputs": [
    {
     "name": "stdout",
     "output_type": "stream",
     "text": [
      "\n",
      "=== FINAL HEAD ===\n",
      "        Date      Open      High       Low     Close   Adj Close    Volume  \\\n",
      "0 2014-09-17 -0.885645 -0.884096 -0.886190 -0.886821  457.334015 -0.806132   \n",
      "1 2014-09-18 -0.886700 -0.885381 -0.890919 -0.890669  424.440002 -0.805367   \n",
      "2 2014-09-19 -0.890539 -0.888680 -0.894355 -0.894138  394.795990 -0.805171   \n",
      "3 2014-09-20 -0.893987 -0.889196 -0.893711 -0.892487  408.903992 -0.805232   \n",
      "4 2014-09-21 -0.892416 -0.890431 -0.893315 -0.893667  398.821014 -0.805817   \n",
      "\n",
      "   Year  Month_2  Month_3  ...  Month_12  DayOfWeek_1  DayOfWeek_2  \\\n",
      "0  2014    False    False  ...     False        False         True   \n",
      "1  2014    False    False  ...     False        False        False   \n",
      "2  2014    False    False  ...     False        False        False   \n",
      "3  2014    False    False  ...     False        False        False   \n",
      "4  2014    False    False  ...     False        False        False   \n",
      "\n",
      "   DayOfWeek_3  DayOfWeek_4  DayOfWeek_5  DayOfWeek_6  Open-Close  High-Low  \\\n",
      "0        False        False        False        False    0.077481 -0.742155   \n",
      "1         True        False        False        False    0.164201 -0.691537   \n",
      "2        False         True        False        False    0.152901 -0.692355   \n",
      "3        False        False         True        False   -0.005142 -0.710232   \n",
      "4        False        False        False         True    0.080145 -0.735841   \n",
      "\n",
      "   Low-Close  \n",
      "0   0.693052  \n",
      "1   0.671933  \n",
      "2   0.675458  \n",
      "3   0.646669  \n",
      "4   0.690659  \n",
      "\n",
      "[5 rows x 28 columns]\n"
     ]
    }
   ],
   "source": [
    "# # === FINAL SNAPSHOT ===\n",
    "print(\"\\n=== FINAL HEAD ===\")\n",
    "print(df.head())"
   ]
  },
  {
   "cell_type": "code",
   "execution_count": 238,
   "id": "e168437c",
   "metadata": {},
   "outputs": [
    {
     "name": "stdout",
     "output_type": "stream",
     "text": [
      "\n",
      "=== FINAL INFO ===\n",
      "<class 'pandas.core.frame.DataFrame'>\n",
      "RangeIndex: 2713 entries, 0 to 2712\n",
      "Data columns (total 28 columns):\n",
      " #   Column       Non-Null Count  Dtype         \n",
      "---  ------       --------------  -----         \n",
      " 0   Date         2713 non-null   datetime64[ns]\n",
      " 1   Open         2713 non-null   float64       \n",
      " 2   High         2713 non-null   float64       \n",
      " 3   Low          2713 non-null   float64       \n",
      " 4   Close        2713 non-null   float64       \n",
      " 5   Adj Close    2713 non-null   float64       \n",
      " 6   Volume       2713 non-null   float64       \n",
      " 7   Year         2713 non-null   int32         \n",
      " 8   Month_2      2713 non-null   bool          \n",
      " 9   Month_3      2713 non-null   bool          \n",
      " 10  Month_4      2713 non-null   bool          \n",
      " 11  Month_5      2713 non-null   bool          \n",
      " 12  Month_6      2713 non-null   bool          \n",
      " 13  Month_7      2713 non-null   bool          \n",
      " 14  Month_8      2713 non-null   bool          \n",
      " 15  Month_9      2713 non-null   bool          \n",
      " 16  Month_10     2713 non-null   bool          \n",
      " 17  Month_11     2713 non-null   bool          \n",
      " 18  Month_12     2713 non-null   bool          \n",
      " 19  DayOfWeek_1  2713 non-null   bool          \n",
      " 20  DayOfWeek_2  2713 non-null   bool          \n",
      " 21  DayOfWeek_3  2713 non-null   bool          \n",
      " 22  DayOfWeek_4  2713 non-null   bool          \n",
      " 23  DayOfWeek_5  2713 non-null   bool          \n",
      " 24  DayOfWeek_6  2713 non-null   bool          \n",
      " 25  Open-Close   2713 non-null   float64       \n",
      " 26  High-Low     2713 non-null   float64       \n",
      " 27  Low-Close    2713 non-null   float64       \n",
      "dtypes: bool(17), datetime64[ns](1), float64(9), int32(1)\n",
      "memory usage: 267.7 KB\n",
      "None\n"
     ]
    }
   ],
   "source": [
    "# === FINAL DESCRIBE ===\n",
    "print(\"\\n=== FINAL INFO ===\")\n",
    "print(df.info())"
   ]
  },
  {
   "cell_type": "code",
   "execution_count": 239,
   "id": "f2611632",
   "metadata": {},
   "outputs": [
    {
     "name": "stdout",
     "output_type": "stream",
     "text": [
      "\n",
      "=== FINAL MISSING VALUES ===\n",
      "Date           0\n",
      "Open           0\n",
      "High           0\n",
      "Low            0\n",
      "Close          0\n",
      "Adj Close      0\n",
      "Volume         0\n",
      "Year           0\n",
      "Month_2        0\n",
      "Month_3        0\n",
      "Month_4        0\n",
      "Month_5        0\n",
      "Month_6        0\n",
      "Month_7        0\n",
      "Month_8        0\n",
      "Month_9        0\n",
      "Month_10       0\n",
      "Month_11       0\n",
      "Month_12       0\n",
      "DayOfWeek_1    0\n",
      "DayOfWeek_2    0\n",
      "DayOfWeek_3    0\n",
      "DayOfWeek_4    0\n",
      "DayOfWeek_5    0\n",
      "DayOfWeek_6    0\n",
      "Open-Close     0\n",
      "High-Low       0\n",
      "Low-Close      0\n",
      "dtype: int64\n"
     ]
    }
   ],
   "source": [
    "# === FINAL MISSING VALUES ===\n",
    "print(\"\\n=== FINAL MISSING VALUES ===\")\n",
    "print(df.isnull().sum())"
   ]
  },
  {
   "cell_type": "code",
   "execution_count": 240,
   "id": "fba69ac1",
   "metadata": {},
   "outputs": [
    {
     "name": "stdout",
     "output_type": "stream",
     "text": [
      "\n",
      "✅ Dataset saved to ./Dataset/Bitcoin-Cleaned-Dataset.csv successfully!\n"
     ]
    }
   ],
   "source": [
    "import os\n",
    "\n",
    "# Create the folder if it doesn't exist\n",
    "os.makedirs(\"Dataset\", exist_ok=True)\n",
    "\n",
    "# Set the output file path\n",
    "OUT_PATH = \"./Dataset/Bitcoin-Cleaned-Dataset.csv\"\n",
    "\n",
    "# Save the DataFrame\n",
    "df.to_csv(OUT_PATH, index=False)\n",
    "\n",
    "print(f\"\\n✅ Dataset saved to {OUT_PATH} successfully!\")"
   ]
  }
 ],
 "metadata": {
  "kernelspec": {
   "display_name": "Python 3",
   "language": "python",
   "name": "python3"
  },
  "language_info": {
   "codemirror_mode": {
    "name": "ipython",
    "version": 3
   },
   "file_extension": ".py",
   "mimetype": "text/x-python",
   "name": "python",
   "nbconvert_exporter": "python",
   "pygments_lexer": "ipython3",
   "version": "3.14.0"
  }
 },
 "nbformat": 4,
 "nbformat_minor": 5
}
