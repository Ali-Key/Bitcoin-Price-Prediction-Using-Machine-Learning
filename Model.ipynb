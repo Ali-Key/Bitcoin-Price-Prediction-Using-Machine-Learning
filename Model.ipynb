{
 "cells": [
  {
   "cell_type": "code",
   "execution_count": 462,
   "id": "70120bf7",
   "metadata": {},
   "outputs": [
    {
     "name": "stdout",
     "output_type": "stream",
     "text": [
      "✅ Libraries imported successfully.\n"
     ]
    }
   ],
   "source": [
    "# === Step 0: Import Libraries ===\n",
    "import pandas as pd\n",
    "import numpy as np\n",
    "from sklearn.model_selection import train_test_split\n",
    "from sklearn.linear_model import LinearRegression\n",
    "from sklearn.ensemble import RandomForestRegressor\n",
    "from sklearn.metrics import mean_squared_error, mean_absolute_error, r2_score\n",
    "import joblib\n",
    "import json\n",
    "\n",
    "print(\"✅ Libraries imported successfully.\")"
   ]
  },
  {
   "cell_type": "code",
   "execution_count": 463,
   "id": "4f4c623c",
   "metadata": {},
   "outputs": [
    {
     "name": "stdout",
     "output_type": "stream",
     "text": [
      "✅ Cleaned dataset loaded successfully.\n",
      "\n",
      "=== HEAD ===\n",
      "         Date      Open      High       Low     Close   Adj Close    Volume  \\\n",
      "0  2014-09-17 -0.885645 -0.884096 -0.886190 -0.886821  457.334015 -0.806132   \n",
      "1  2014-09-18 -0.886700 -0.885381 -0.890919 -0.890669  424.440002 -0.805367   \n",
      "2  2014-09-19 -0.890539 -0.888680 -0.894355 -0.894138  394.795990 -0.805171   \n",
      "3  2014-09-20 -0.893987 -0.889196 -0.893711 -0.892487  408.903992 -0.805232   \n",
      "4  2014-09-21 -0.892416 -0.890431 -0.893315 -0.893667  398.821014 -0.805817   \n",
      "\n",
      "   Year  Month_2  Month_3  ...  Month_12  DayOfWeek_1  DayOfWeek_2  \\\n",
      "0  2014    False    False  ...     False        False         True   \n",
      "1  2014    False    False  ...     False        False        False   \n",
      "2  2014    False    False  ...     False        False        False   \n",
      "3  2014    False    False  ...     False        False        False   \n",
      "4  2014    False    False  ...     False        False        False   \n",
      "\n",
      "   DayOfWeek_3  DayOfWeek_4  DayOfWeek_5  DayOfWeek_6  Open-Close  High-Low  \\\n",
      "0        False        False        False        False    0.077481 -0.742155   \n",
      "1         True        False        False        False    0.164201 -0.691537   \n",
      "2        False         True        False        False    0.152901 -0.692355   \n",
      "3        False        False         True        False   -0.005142 -0.710232   \n",
      "4        False        False        False         True    0.080145 -0.735841   \n",
      "\n",
      "   Low-Close  \n",
      "0   0.693052  \n",
      "1   0.671933  \n",
      "2   0.675458  \n",
      "3   0.646669  \n",
      "4   0.690659  \n",
      "\n",
      "[5 rows x 28 columns]\n"
     ]
    }
   ],
   "source": [
    "# === Step 1: Load Cleaned Dataset ===\n",
    "CSV_PATH = \"./Dataset/Bitcoin-Cleaned-Dataset.csv\"\n",
    "df = pd.read_csv(CSV_PATH)\n",
    "print(\"✅ Cleaned dataset loaded successfully.\\n\")\n",
    "print(\"=== HEAD ===\")\n",
    "print(df.head())"
   ]
  },
  {
   "cell_type": "code",
   "execution_count": 464,
   "id": "018d945d",
   "metadata": {},
   "outputs": [
    {
     "name": "stdout",
     "output_type": "stream",
     "text": [
      "\n",
      "✅ Features (X) and target (y) prepared. Number of features: 26\n"
     ]
    }
   ],
   "source": [
    "# === Step 2: Prepare Features (X) and Target (y) ===\n",
    "target = \"Close\"\n",
    "\n",
    "# Load saved training columns (features used during preprocessing)\n",
    "TRAIN_COLUMNS = json.load(open(\"models/train_columns.json\"))\n",
    "\n",
    "# Select features and target\n",
    "X = df[TRAIN_COLUMNS]\n",
    "y = df[target]\n",
    "\n",
    "print(f\"\\n✅ Features (X) and target (y) prepared. Number of features: {X.shape[1]}\")"
   ]
  },
  {
   "cell_type": "code",
   "execution_count": 465,
   "id": "fd0f0eda",
   "metadata": {},
   "outputs": [
    {
     "name": "stdout",
     "output_type": "stream",
     "text": [
      "\n",
      "✅ Dataset split into training and testing sets:\n",
      "Training samples: 2170, Testing samples: 543\n"
     ]
    }
   ],
   "source": [
    "# === Step 3: Split Dataset into Train & Test Sets ===\n",
    "X_train, X_test, y_train, y_test = train_test_split(\n",
    "    X, y, test_size=0.2, random_state=42\n",
    ")\n",
    "\n",
    "print(f\"\\n✅ Dataset split into training and testing sets:\")\n",
    "print(f\"Training samples: {X_train.shape[0]}, Testing samples: {X_test.shape[0]}\")"
   ]
  },
  {
   "cell_type": "code",
   "execution_count": 466,
   "id": "f0a014d2",
   "metadata": {},
   "outputs": [
    {
     "name": "stdout",
     "output_type": "stream",
     "text": [
      "\n",
      "✅ Linear Regression model trained.\n"
     ]
    }
   ],
   "source": [
    "# === Step 4: Train Linear Regression Model ===\n",
    "lr_model = LinearRegression()\n",
    "lr_model.fit(X_train, y_train)\n",
    "\n",
    "# Predict on test set\n",
    "y_pred_lr = lr_model.predict(X_test)\n",
    "\n",
    "print(\"\\n✅ Linear Regression model trained.\")"
   ]
  },
  {
   "cell_type": "code",
   "execution_count": 467,
   "id": "277ebd06",
   "metadata": {},
   "outputs": [
    {
     "name": "stdout",
     "output_type": "stream",
     "text": [
      "\n",
      "✅ Random Forest Regressor model trained.\n"
     ]
    }
   ],
   "source": [
    "# === Step 5: Train Random Forest Regressor ===\n",
    "rf_model = RandomForestRegressor(n_estimators=100, random_state=42)\n",
    "rf_model.fit(X_train, y_train)\n",
    "\n",
    "# Predict on test set\n",
    "y_pred_rf = rf_model.predict(X_test)\n",
    "\n",
    "print(\"\\n✅ Random Forest Regressor model trained.\")"
   ]
  },
  {
   "cell_type": "code",
   "execution_count": 468,
   "id": "fb03aa5c",
   "metadata": {},
   "outputs": [
    {
     "name": "stdout",
     "output_type": "stream",
     "text": [
      "\n",
      "Linear Regression Performance:\n",
      "  MSE  : 0.0000\n",
      "  MAE  : 0.0000\n",
      "  RMSE : 0.0000\n",
      "  R2   : 1.0000\n",
      "\n",
      "Random Forest Performance:\n",
      "  MSE  : 0.0000\n",
      "  MAE  : 0.0013\n",
      "  RMSE : 0.0052\n",
      "  R2   : 1.0000\n"
     ]
    }
   ],
   "source": [
    "def evaluate_model(y_true, y_pred, model_name=\"Model\"):\n",
    "    mse = mean_squared_error(y_true, y_pred)\n",
    "    mae = mean_absolute_error(y_true, y_pred)\n",
    "    rmse = np.sqrt(mse)\n",
    "    r2 = r2_score(y_true, y_pred)\n",
    "    \n",
    "    print(f\"\\n{model_name} Performance:\")\n",
    "    print(f\"  MSE  : {mse:.4f}\")\n",
    "    print(f\"  MAE  : {mae:.4f}\")\n",
    "    print(f\"  RMSE : {rmse:.4f}\")\n",
    "    print(f\"  R2   : {r2:.4f}\")\n",
    "\n",
    "# Evaluate Linear Regression\n",
    "evaluate_model(y_test, y_pred_lr, \"Linear Regression\")\n",
    "\n",
    "# Evaluate Random Forest\n",
    "evaluate_model(y_test, y_pred_rf, \"Random Forest\")"
   ]
  },
  {
   "cell_type": "code",
   "execution_count": 469,
   "id": "d80ac2da",
   "metadata": {},
   "outputs": [
    {
     "name": "stdout",
     "output_type": "stream",
     "text": [
      "\n",
      "Single-row sanity check:\n",
      "  Actual Price: $-1\n",
      "  LR Predicted: $-1\n",
      "  RF Predicted: $-1\n"
     ]
    }
   ],
   "source": [
    "# 7) Single-row sanity check\n",
    "# Pick a row from the test set to compare actual vs predicted values\n",
    "i = 3  # choose any index from X_test\n",
    "x_one_df = X_test.iloc[[i]]  # keep as DataFrame\n",
    "y_true = y_test.iloc[i]      # actual price\n",
    "\n",
    "# Make predictions with both models\n",
    "p_lr_one = float(lr_model.predict(x_one_df)[0])\n",
    "p_rf_one = float(rf_model.predict(x_one_df)[0])\n",
    "\n",
    "# Display results\n",
    "print(\"\\nSingle-row sanity check:\")\n",
    "print(f\"  Actual Price: ${y_true:,.0f}\")\n",
    "print(f\"  LR Predicted: ${p_lr_one:,.0f}\")\n",
    "print(f\"  RF Predicted: ${p_rf_one:,.0f}\")\n"
   ]
  },
  {
   "cell_type": "code",
   "execution_count": 470,
   "id": "79793a06",
   "metadata": {},
   "outputs": [
    {
     "name": "stdout",
     "output_type": "stream",
     "text": [
      "\n",
      "=== Sample Predictions Comparison ===\n",
      "\n",
      "Input Features (first 5 rows):\n",
      "          Open      High       Low     Adj Close    Volume  Year  Month_2  \\\n",
      "506  -0.894664 -0.892856 -0.894230    386.549011 -0.804835  2016     True   \n",
      "1535 -0.437638 -0.445996 -0.466408   4017.268555 -0.462753  2018    False   \n",
      "1905 -0.090297 -0.057260 -0.070746   7448.307617  0.264694  2019    False   \n",
      "930  -0.806003 -0.805874 -0.805839   1133.250000 -0.782473  2017    False   \n",
      "2676  2.015219  2.016779  2.017954  43099.699219  0.535964  2022    False   \n",
      "\n",
      "      Month_3  Month_4  Month_5  ...  Month_12  DayOfWeek_1  DayOfWeek_2  \\\n",
      "506     False    False    False  ...     False        False        False   \n",
      "1535    False    False    False  ...     False        False        False   \n",
      "1905    False    False    False  ...      True        False        False   \n",
      "930     False     True    False  ...     False         True        False   \n",
      "2676    False    False    False  ...     False        False        False   \n",
      "\n",
      "      DayOfWeek_3  DayOfWeek_4  DayOfWeek_5  DayOfWeek_6  Open-Close  \\\n",
      "506         False         True        False        False    0.055044   \n",
      "1535        False         True        False        False    1.033222   \n",
      "1905         True        False        False        False   -0.661571   \n",
      "930         False        False        False        False    0.091057   \n",
      "2676        False         True        False        False   -0.041212   \n",
      "\n",
      "      High-Low  Low-Close  \n",
      "506  -0.760646   0.705989  \n",
      "1535 -0.083484   0.464455  \n",
      "1905  0.152581   0.000306  \n",
      "930  -0.705700   0.667351  \n",
      "2676  1.747117  -1.413782  \n",
      "\n",
      "[5 rows x 26 columns]\n",
      "\n",
      "Actual Close Prices:\n",
      "[-0.89510276 -0.47028854 -0.06883803 -0.80773463  2.01353999]\n",
      "\n",
      "Linear Regression Predictions:\n",
      "[-0.89510276 -0.47028854 -0.06883803 -0.80773463  2.01353999]\n",
      "\n",
      "Random Forest Predictions:\n",
      "[-0.89506412 -0.4690828  -0.06774999 -0.80657387  2.01353999]\n"
     ]
    }
   ],
   "source": [
    "# === Step 7: Sanity Checks (Sample Predictions) ===\n",
    "print(\"\\n=== Sample Predictions Comparison ===\")\n",
    "sample = X_test.head(5)\n",
    "sample_true = y_test.head(5)\n",
    "\n",
    "print(\"\\nInput Features (first 5 rows):\")\n",
    "print(sample)\n",
    "\n",
    "print(\"\\nActual Close Prices:\")\n",
    "print(sample_true.values)\n",
    "\n",
    "print(\"\\nLinear Regression Predictions:\")\n",
    "print(y_pred_lr[:5])\n",
    "\n",
    "print(\"\\nRandom Forest Predictions:\")\n",
    "print(y_pred_rf[:5])\n"
   ]
  },
  {
   "cell_type": "code",
   "execution_count": 471,
   "id": "56f70733",
   "metadata": {},
   "outputs": [
    {
     "name": "stdout",
     "output_type": "stream",
     "text": [
      "\n",
      "✅ Models saved successfully in 'models/' folder.\n"
     ]
    }
   ],
   "source": [
    "# === Step 8: Save Trained Models ===\n",
    "import os\n",
    "\n",
    "\n",
    "os.makedirs(\"models\", exist_ok=True)\n",
    "joblib.dump(lr_model, \"models/linear_regression_model.pkl\")\n",
    "joblib.dump(rf_model, \"models/random_forest_model.pkl\")\n",
    "\n",
    "print(\"\\n✅ Models saved successfully in 'models/' folder.\")"
   ]
  }
 ],
 "metadata": {
  "kernelspec": {
   "display_name": "Python 3",
   "language": "python",
   "name": "python3"
  },
  "language_info": {
   "codemirror_mode": {
    "name": "ipython",
    "version": 3
   },
   "file_extension": ".py",
   "mimetype": "text/x-python",
   "name": "python",
   "nbconvert_exporter": "python",
   "pygments_lexer": "ipython3",
   "version": "3.14.0"
  }
 },
 "nbformat": 4,
 "nbformat_minor": 5
}
