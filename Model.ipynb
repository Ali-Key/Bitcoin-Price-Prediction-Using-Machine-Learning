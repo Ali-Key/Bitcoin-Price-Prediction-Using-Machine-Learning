{
 "cells": [
  {
   "cell_type": "code",
   "execution_count": 287,
   "id": "81cb2ea7",
   "metadata": {},
   "outputs": [
    {
     "name": "stdout",
     "output_type": "stream",
     "text": [
      "✅ Libraries imported successfully.\n"
     ]
    }
   ],
   "source": [
    "# model.py\n",
    "\n",
    "# House Price Prediction – Model Training Script\n",
    "# Author: Ali Omar Abdi\n",
    "# Course: Data Science & Machine Learning Bootcamp\n",
    "# Task: Regression (Supervised Learning)\n",
    "\n",
    "# === Step 0: Import Libraries ===\n",
    "import pandas as pd\n",
    "import numpy as np\n",
    "\n",
    "# Machine Learning\n",
    "from sklearn.model_selection import train_test_split\n",
    "from sklearn.discriminant_analysis import StandardScaler\n",
    "from sklearn.linear_model import LinearRegression\n",
    "from sklearn.ensemble import RandomForestRegressor\n",
    "from xgboost import XGBRegressor\n",
    "from sklearn.svm import SVR\n",
    "from sklearn.tree import DecisionTreeRegressor\n",
    "\n",
    "\n",
    "\n",
    "\n",
    "# Evaluation Metrics\n",
    "from sklearn.metrics import mean_absolute_error, mean_squared_error, r2_score\n",
    "\n",
    "# Visualization Libraries\n",
    "import matplotlib.pyplot as plt\n",
    "import seaborn as sns\n",
    "\n",
    "# Hyperparameter Tuning\n",
    "from sklearn.model_selection import RandomizedSearchCV\n",
    "\n",
    "# Models & Pickle for saving\n",
    "import joblib\n",
    "\n",
    "\n",
    "print(\"✅ Libraries imported successfully.\")"
   ]
  },
  {
   "cell_type": "code",
   "execution_count": 288,
   "id": "fdf7a12a",
   "metadata": {},
   "outputs": [
    {
     "name": "stdout",
     "output_type": "stream",
     "text": [
      "✅ Dataset loaded successfully.\n"
     ]
    }
   ],
   "source": [
    "# === Step 0: Load the dataset\n",
    "csv_path = \"./Dataset/Bitcoin-Cleaned-Dataset.csv\"\n",
    "df = pd.read_csv(csv_path)\n",
    "\n",
    "print(\"✅ Dataset loaded successfully.\")"
   ]
  },
  {
   "cell_type": "code",
   "execution_count": 289,
   "id": "7222ecaf",
   "metadata": {},
   "outputs": [
    {
     "name": "stdout",
     "output_type": "stream",
     "text": [
      "✅ Features and target variable prepared.\n"
     ]
    }
   ],
   "source": [
    "# Step: 1 Prepare X and y\n",
    "X = df.drop(columns=[\"Close\", \"Date\"]).copy()\n",
    "y = df[\"Close\"].copy()\n",
    "\n",
    "print(\"✅ Features and target variable prepared.\")"
   ]
  },
  {
   "cell_type": "code",
   "execution_count": 290,
   "id": "c38c543d",
   "metadata": {},
   "outputs": [
    {
     "name": "stdout",
     "output_type": "stream",
     "text": [
      "✅ Data split into training and testing sets.\n"
     ]
    }
   ],
   "source": [
    "# === Step 2: Train-Test Split ===\n",
    "X_train, X_test, y_train, y_test = train_test_split(X, y, test_size=0.2, random_state=42)\n",
    "\n",
    "print(\"✅ Data split into training and testing sets.\")"
   ]
  },
  {
   "cell_type": "code",
   "execution_count": 291,
   "id": "66756ace",
   "metadata": {},
   "outputs": [
    {
     "name": "stdout",
     "output_type": "stream",
     "text": [
      "✅ Feature scaling applied.\n"
     ]
    }
   ],
   "source": [
    "# === Step 3: Feature Scaling ===\n",
    "scaler = StandardScaler()\n",
    "X_train_scaled = pd.DataFrame(scaler.fit_transform(X_train), columns=X_train.columns)\n",
    "X_test_scaled = pd.DataFrame(scaler.transform(X_test), columns=X_test.columns)\n",
    "\n",
    "print(\"✅ Feature scaling applied.\")"
   ]
  },
  {
   "cell_type": "code",
   "execution_count": 292,
   "id": "44720b39",
   "metadata": {},
   "outputs": [
    {
     "name": "stdout",
     "output_type": "stream",
     "text": [
      "✅ Models trained successfully.\n"
     ]
    }
   ],
   "source": [
    "# === Step 4: Train Models ===\n",
    "# Train Random Forest\n",
    "\n",
    "\n",
    "rf = RandomForestRegressor(n_estimators=200, random_state=42)\n",
    "rf.fit(X_train_scaled, y_train)\n",
    "y_pred_rf = rf.predict(X_test_scaled)\n",
    "\n",
    "# Train XGBoost\n",
    "xgb = XGBRegressor(n_estimators=200, random_state=42)\n",
    "xgb.fit(X_train_scaled, y_train)\n",
    "y_pred_xgb = xgb.predict(X_test_scaled)\n",
    "\n",
    "# Train Linear Regression\n",
    "lr = LinearRegression()\n",
    "lr.fit(X_train_scaled, y_train)\n",
    "y_pred_lr = lr.predict(X_test_scaled)\n",
    "\n",
    "# Train SVM\n",
    "svm = SVR(kernel='rbf')\n",
    "svm.fit(X_train_scaled, y_train)\n",
    "y_pred_svm = svm.predict(X_test_scaled)\n",
    "\n",
    "# Decision Tree Regressor\n",
    "dt = DecisionTreeRegressor(random_state=42)\n",
    "dt.fit(X_train_scaled, y_train)\n",
    "y_pred_dt = dt.predict(X_test_scaled)\n",
    "\n",
    "\n",
    "\n",
    "print(\"✅ Models trained successfully.\")"
   ]
  },
  {
   "cell_type": "code",
   "execution_count": 293,
   "id": "7696d307",
   "metadata": {},
   "outputs": [
    {
     "name": "stdout",
     "output_type": "stream",
     "text": [
      "✅ Random Forest trained successfully.\n",
      "✅ XGBoost trained successfully.\n",
      "✅ Linear Regression trained successfully.\n",
      "✅ SVM trained successfully.\n",
      "✅ Decision Tree trained successfully.\n",
      "\n",
      "=== Linear Regression: Actual vs Predicted ===\n",
      "      Actual value  Predicted value\n",
      "506     386.549011       386.549011\n",
      "1535   4017.268555      4017.268555\n",
      "1905   7448.307617      7448.307617\n",
      "930    1133.250000      1133.250000\n",
      "2676  43099.699219     43099.699219\n"
     ]
    }
   ],
   "source": [
    "# === Step 5 : Train Models and Make Predictions ===\n",
    "\n",
    "# 1) Define all models in a dictionary for easy training & evaluation\n",
    "models = {\n",
    "    \"Random Forest\": RandomForestRegressor(n_estimators=200, random_state=42),\n",
    "    \"XGBoost\": XGBRegressor(n_estimators=200, random_state=42),\n",
    "    \"Linear Regression\": LinearRegression(),\n",
    "    \"SVM\": SVR(kernel='rbf'),\n",
    "    \"Decision Tree\": DecisionTreeRegressor(random_state=42)\n",
    "}\n",
    "\n",
    "# 2) Train models and store predictions\n",
    "predictions = {}  # to store test predictions\n",
    "for name, model in models.items():\n",
    "    model.fit(X_train_scaled, y_train)            # Train the model\n",
    "    y_pred = model.predict(X_test_scaled)         # Predict on test set\n",
    "    predictions[name] = y_pred\n",
    "    print(f\"✅ {name} trained successfully.\")\n",
    "\n",
    "# 3) Compare actual vs predicted values for Linear Regression (example)\n",
    "mlr_diff = pd.DataFrame({\n",
    "    'Actual value': y_test,\n",
    "    'Predicted value': predictions[\"Linear Regression\"]\n",
    "})\n",
    "\n",
    "print(\"\\n=== Linear Regression: Actual vs Predicted ===\")\n",
    "\n",
    "print(mlr_diff.head())\n"
   ]
  },
  {
   "cell_type": "code",
   "execution_count": 294,
   "id": "43b0fc4c",
   "metadata": {},
   "outputs": [
    {
     "name": "stdout",
     "output_type": "stream",
     "text": [
      "Random Forest - Accuracy on Training Dataset: 100.00%\n",
      "Random Forest - Accuracy on Testing Dataset: 100.00%\n",
      "--------------------------------------------------\n",
      "XGBoost - Accuracy on Training Dataset: 100.00%\n",
      "XGBoost - Accuracy on Testing Dataset: 99.98%\n",
      "--------------------------------------------------\n",
      "Linear Regression - Accuracy on Training Dataset: 100.00%\n",
      "Linear Regression - Accuracy on Testing Dataset: 100.00%\n",
      "--------------------------------------------------\n",
      "SVM - Accuracy on Training Dataset: -7.09%\n",
      "SVM - Accuracy on Testing Dataset: -8.03%\n",
      "--------------------------------------------------\n",
      "Decision Tree Regressor - Accuracy on Training Dataset: 100.00%\n",
      "Decision Tree Regressor - Accuracy on Testing Dataset: 99.99%\n",
      "--------------------------------------------------\n",
      "✅ All models evaluated successfully.\n"
     ]
    }
   ],
   "source": [
    "# Step 6: Evaluate the models' accuracy on the training and testing datasets\n",
    "# === 1) List of models \n",
    "models = {\n",
    "    \"Random Forest\": rf,\n",
    "    \"XGBoost\": xgb,\n",
    "    \"Linear Regression\": lr,\n",
    "    \"SVM\": svm,\n",
    "    \"Decision Tree Regressor\": dt\n",
    "}\n",
    "\n",
    "# === 2) Evaluate accuracy on training and testing datasets ===\n",
    "for name, model in models.items():\n",
    "    train_acc = model.score(X_train_scaled, y_train) * 100\n",
    "    test_acc = model.score(X_test_scaled, y_test) * 100\n",
    " \n",
    "    print(f\"{name} - Accuracy on Training Dataset: {train_acc:.2f}%\")\n",
    "    print(f\"{name} - Accuracy on Testing Dataset: {test_acc:.2f}%\")\n",
    "    print(\"-\" * 50)\n",
    "\n",
    "print(\"✅ All models evaluated successfully.\")\n"
   ]
  },
  {
   "cell_type": "code",
   "execution_count": 295,
   "id": "41b3c86c",
   "metadata": {},
   "outputs": [
    {
     "name": "stdout",
     "output_type": "stream",
     "text": [
      "Random Forest - R2: 1.000, MSE: 9692, MAE: 31\n",
      "XGBoost - R2: 1.000, MSE: 53295.84, MAE: 89.79\n",
      "Linear Regression - R2: 1.000, MSE: 0, MAE: 0\n",
      "SVM - R2: -0.080, MSE: 296752779, MAE: 9857\n",
      "Decision Tree - R2: 1.000, MSE: 15949, MAE: 42\n",
      "\n",
      "✅ Models evaluated successfully.\n"
     ]
    }
   ],
   "source": [
    "# === Step 7: Model Evaluation ===\n",
    "# Evaluate Random Forest\n",
    "rf_r2 = r2_score(y_test, y_pred_rf)\n",
    "rf_mse = mean_squared_error(y_test, y_pred_rf)\n",
    "rf_mae = mean_absolute_error(y_test, y_pred_rf)\n",
    "print(f\"Random Forest - R2: {rf_r2:.3f}, MSE: {rf_mse:.0f}, MAE: {rf_mae:.0f}\")\n",
    "\n",
    "# Evaluate XGBoost\n",
    "xgb_r2 = r2_score(y_test, y_pred_xgb)\n",
    "xgb_mse = mean_squared_error(y_test, y_pred_xgb)\n",
    "xgb_mae = mean_absolute_error(y_test, y_pred_xgb)\n",
    "print(f\"XGBoost - R2: {xgb_r2:.3f}, MSE: {xgb_mse:.2f}, MAE: {xgb_mae:.2f}\")\n",
    "\n",
    "# Evaluate Linear Regression\n",
    "lr_r2 = r2_score(y_test, y_pred_lr)\n",
    "lr_mse = mean_squared_error(y_test, y_pred_lr)\n",
    "lr_mae = mean_absolute_error(y_test, y_pred_lr)\n",
    "print(f\"Linear Regression - R2: {lr_r2:.3f}, MSE: {lr_mse:.0f}, MAE: {lr_mae:.0f}\")\n",
    "\n",
    "\n",
    "# Evaluate SVM\n",
    "svm_r2 = r2_score(y_test, y_pred_svm)\n",
    "svm_mse = mean_squared_error(y_test, y_pred_svm)\n",
    "svm_mae = mean_absolute_error(y_test, y_pred_svm)\n",
    "print(f\"SVM - R2: {svm_r2:.3f}, MSE: {svm_mse:.0f}, MAE: {svm_mae:.0f}\")\n",
    "\n",
    "# Evaluate Decision Tree\n",
    "dt_r2 = r2_score(y_test, y_pred_dt)\n",
    "dt_mse = mean_squared_error(y_test, y_pred_dt)\n",
    "dt_mae = mean_absolute_error(y_test, y_pred_dt)\n",
    "print(f\"Decision Tree - R2: {dt_r2:.3f}, MSE: {dt_mse:.0f}, MAE: {dt_mae:.0f}\")\n",
    "\n",
    "print(\"\\n✅ Models evaluated successfully.\")"
   ]
  },
  {
   "cell_type": "code",
   "execution_count": 296,
   "id": "b0b3bded",
   "metadata": {},
   "outputs": [
    {
     "name": "stdout",
     "output_type": "stream",
     "text": [
      "\n",
      "Single-row sanity check:\n",
      "  Actual Price: $1,133\n",
      "  Linear Regression Prediction: $9,085,507\n",
      "  Random Forest Prediction: $25,182\n",
      "  XGBoost Prediction: $17,028\n",
      "  Decision Tree Prediction: $65,993\n"
     ]
    }
   ],
   "source": [
    "\n",
    "# step 8: Single-row sanity check\n",
    "i = 3\n",
    "x_one_df = X_test.iloc[[i]]\n",
    "y_true = y_test.iloc[i]\n",
    "p_lr_one = float(lr.predict(x_one_df)[0])\n",
    "p_rf_one = float(rf.predict(x_one_df)[0])\n",
    "pr_XGBoost_one = float(xgb.predict(x_one_df)[0])\n",
    "pr_Decision_reegr_one= float(dt.predict(x_one_df)[0])\n",
    "print(\"\\nSingle-row sanity check:\")\n",
    "print(f\"  Actual Price: ${y_true:,.0f}\")\n",
    "print(f\"  Linear Regression Prediction: ${p_lr_one:,.0f}\")\n",
    "print(f\"  Random Forest Prediction: ${p_rf_one:,.0f}\")\n",
    "print(f\"  XGBoost Prediction: ${pr_XGBoost_one:,.0f}\")\n",
    "print(f\"  Decision Tree Prediction: ${pr_Decision_reegr_one:,.0f}\")\n",
    "\n",
    "\n"
   ]
  }
 ],
 "metadata": {
  "kernelspec": {
   "display_name": "Python 3",
   "language": "python",
   "name": "python3"
  },
  "language_info": {
   "codemirror_mode": {
    "name": "ipython",
    "version": 3
   },
   "file_extension": ".py",
   "mimetype": "text/x-python",
   "name": "python",
   "nbconvert_exporter": "python",
   "pygments_lexer": "ipython3",
   "version": "3.14.0"
  }
 },
 "nbformat": 4,
 "nbformat_minor": 5
}
